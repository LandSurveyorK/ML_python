{
 "cells": [
  {
   "cell_type": "code",
   "execution_count": 10,
   "metadata": {},
   "outputs": [
    {
     "name": "stdout",
     "output_type": "stream",
     "text": [
      "<__main__.Person object at 0x0000000C33250CC0> 40000 Jones\n",
      "40000\n",
      "<__main__.Person object at 0x0000000C33250198>\n",
      "<__main__.Person object at 0x0000000C33250CC0>\n",
      "<__main__.Manager object at 0x0000000C33250C50>\n"
     ]
    }
   ],
   "source": [
    "class Person:\n",
    "    def __init__(self, name, age, pay = 0, job = None):\n",
    "        self.name = name\n",
    "        self.age = age\n",
    "        self. pay = pay\n",
    "        self.job = job\n",
    "    \n",
    "    def lastName(self):\n",
    "        return self.name.split()[-1]\n",
    "    def giveRaise(self, percent):\n",
    "        self.pay = self.pay * (1 + percent)\n",
    "\n",
    "\n",
    "class Manager(Person):\n",
    "    def __init__(self, name, age, pay = 0):\n",
    "        Person.__init__(self, name, age, pay, \"manager\")\n",
    "    def giveRaise(self, percent, bonus = 0.1):\n",
    "        self.pay = self.pay * (1 + percent + bonus)\n",
    "        \n",
    "if __name__ == \"__main__\":\n",
    "    bob = Person('Bob Smith', 44)\n",
    "    sue = Person(\"Sue Jones\", 47, 40000, 'hardware')\n",
    "    tom = Manager(name = 'Tom Doe', age = 50, pay = 50000)\n",
    "    print(sue, sue.pay, sue.lastName()) # pay as \"public double pay\" in Java\n",
    "    print(sue.pay)\n",
    "    for obj in (bob,sue,tom):\n",
    "        obj.giveRaise(.10)\n",
    "        print(obj)\n",
    "        \n",
    "    "
   ]
  },
  {
   "cell_type": "code",
   "execution_count": 27,
   "metadata": {
    "collapsed": true
   },
   "outputs": [],
   "source": [
    "import shelve\n",
    "\n",
    "bob = Person(\"Bob smith\", 42,300000, 'software')\n",
    "sue = Person(\"Sue Jone\", 45,400000, 'hardware')\n",
    "tom = Manager(\"Tom Doe\", 50, 500000)\n",
    "\n",
    "db = shelve.open('class-shelve')\n",
    "db['bob'] = bob\n",
    "db['sue'] = sue\n",
    "db['tom'] = tom\n",
    "db.close()"
   ]
  },
  {
   "cell_type": "code",
   "execution_count": 28,
   "metadata": {},
   "outputs": [
    {
     "name": "stdout",
     "output_type": "stream",
     "text": [
      "d =>\n",
      " ? 0\n",
      "tom =>\n",
      " Tom Doe 500000\n",
      "wp =>\n",
      " Wei Peng 13000\n",
      "bob =>\n",
      " Bob smith 300000\n",
      "sue =>\n",
      " Sue Jone 400000\n",
      "smith\n",
      "Doe\n"
     ]
    }
   ],
   "source": [
    "import shelve\n",
    "db = shelve.open('class-shelve')\n",
    "for key in db:\n",
    "    print(key ,\"=>\\n\", db[key].name, db[key].pay)\n",
    "bob = db['bob']\n",
    "print(bob.lastName())\n",
    "print(db['tom'].lastName())"
   ]
  },
  {
   "cell_type": "code",
   "execution_count": 29,
   "metadata": {},
   "outputs": [
    {
     "name": "stdout",
     "output_type": "stream",
     "text": [
      "\n",
      "Key?=>  \n",
      "NO such key \"  \"!\n",
      "\n",
      "Key?=>\n"
     ]
    }
   ],
   "source": [
    "import shelve\n",
    "fieldnames = ('name', 'age', 'job','pay')\n",
    "maxfield = max(len(f) for f in fieldnames)\n",
    "db = shelve.open('class-shelve')\n",
    "\n",
    "while True:\n",
    "    key = input('\\nKey?=>')\n",
    "    if not key: break\n",
    "    try:\n",
    "        record = db[key]\n",
    "    except:\n",
    "        print('NO such key \"%s\"!' % key)\n",
    "    else:\n",
    "        for field in fieldnames:\n",
    "            print(field.ljust(maxfield), \"=>\", getattr(record, field))"
   ]
  },
  {
   "cell_type": "code",
   "execution_count": 13,
   "metadata": {},
   "outputs": [
    {
     "name": "stdout",
     "output_type": "stream",
     "text": [
      "\n",
      "Key?=>d\n",
      "\t[name]=?\n",
      "\t\tnew?=>\n",
      "\t[age]=?\n",
      "\t\tnew?=>\n",
      "\t[job]=None\n",
      "\t\tnew?=>\n",
      "\t[pay]=0\n",
      "\t\tnew?=>\n",
      "\n",
      "Key?=>\n"
     ]
    }
   ],
   "source": [
    "import shelve\n",
    "fieldnames = ('name', 'age', 'job', 'pay')\n",
    "db = shelve.open('class-shelve')\n",
    "\n",
    "while True:\n",
    "    key = input('\\nKey?=>')\n",
    "    if not key: break\n",
    "    if key in db:\n",
    "        record = db[key]\n",
    "    else:\n",
    "        record = Person(name = '?', age = '?')\n",
    "    for field in fieldnames:\n",
    "        currval = getattr(record, field)\n",
    "        newtext = input('\\t[%s]=%s\\n\\t\\tnew?=>' %(field, currval))\n",
    "        if newtext:\n",
    "            setattr(record, field, eval(newtext))\n",
    "    db[key] = record\n",
    "db.close()\n",
    "        "
   ]
  },
  {
   "cell_type": "code",
   "execution_count": 30,
   "metadata": {
    "collapsed": true
   },
   "outputs": [],
   "source": [
    "from tkinter import *\n",
    "\n",
    "Label(text = 'spam').pack()\n",
    "mainloop()\n"
   ]
  },
  {
   "cell_type": "code",
   "execution_count": 31,
   "metadata": {
    "collapsed": true
   },
   "outputs": [],
   "source": [
    "from tkinter import *\n",
    "from tkinter.messagebox import showinfo\n",
    "\n",
    "def reply():\n",
    "    showinfo(title = \"popup\", message = 'Button pressed!')\n",
    "    \n",
    "window = Tk()\n",
    "button = Button(window, text ='press', command = reply)\n",
    "button.pack()\n",
    "window.mainloop()\n",
    "\n",
    "\n"
   ]
  },
  {
   "cell_type": "code",
   "execution_count": 32,
   "metadata": {
    "collapsed": true
   },
   "outputs": [],
   "source": [
    "from tkinter import *\n",
    "from tkinter.messagebox import showinfo\n",
    "\n",
    "class myGui(Frame):\n",
    "    def __init__(self, parent = None):\n",
    "        Frame.__init__(self,parent)\n",
    "        button = Button(self, text = 'press', command = self.reply)\n",
    "        button.pack()\n",
    "    def reply(self):\n",
    "        showinfo(title = 'popup', message = 'Button pressed')\n",
    "        \n",
    "if __name__ == \"__main__\":\n",
    "    window = myGui()\n",
    "    window.pack()\n",
    "    window.mainloop()\n",
    "\n"
   ]
  },
  {
   "cell_type": "code",
   "execution_count": null,
   "metadata": {
    "collapsed": true
   },
   "outputs": [],
   "source": [
    "mainwin = Tk()\n",
    "\n",
    "Label(mainwin, text = __name__).pack()\n",
    "\n",
    "popup = Toplevel()\n",
    "\n",
    "Label(popup,text='Attach').pack(side = LEFT)\n",
    "myGui(popup).pack(side = RIGHT)\n",
    "mainwin.mainloop()\n"
   ]
  },
  {
   "cell_type": "code",
   "execution_count": 33,
   "metadata": {
    "collapsed": true
   },
   "outputs": [],
   "source": [
    "class CustomGui(myGui):\n",
    "    def reply(self):\n",
    "        showinfo(title=\"popup\", message = \"Ouch!\")\n",
    "if __name__ == \"__main__\":\n",
    "    CustomGui().pack()\n",
    "    mainloop()\n"
   ]
  },
  {
   "cell_type": "code",
   "execution_count": 1,
   "metadata": {},
   "outputs": [
    {
     "ename": "TclError",
     "evalue": "bitmap \"py-blue-trans-out.ico\" not defined",
     "output_type": "error",
     "traceback": [
      "\u001b[1;31m---------------------------------------------------------------------------\u001b[0m",
      "\u001b[1;31mTclError\u001b[0m                                  Traceback (most recent call last)",
      "\u001b[1;32m<ipython-input-1-f527be56cb5a>\u001b[0m in \u001b[0;36m<module>\u001b[1;34m()\u001b[0m\n\u001b[0;32m     10\u001b[0m \u001b[0mtop\u001b[0m \u001b[1;33m=\u001b[0m \u001b[0mTk\u001b[0m\u001b[1;33m(\u001b[0m\u001b[1;33m)\u001b[0m\u001b[1;33m\u001b[0m\u001b[0m\n\u001b[0;32m     11\u001b[0m \u001b[0mtop\u001b[0m\u001b[1;33m.\u001b[0m\u001b[0mtitle\u001b[0m\u001b[1;33m(\u001b[0m\u001b[1;34m'Echo'\u001b[0m\u001b[1;33m)\u001b[0m\u001b[1;33m\u001b[0m\u001b[0m\n\u001b[1;32m---> 12\u001b[1;33m \u001b[0mtop\u001b[0m\u001b[1;33m.\u001b[0m\u001b[0miconbitmap\u001b[0m\u001b[1;33m(\u001b[0m\u001b[1;34m'py-blue-trans-out.ico'\u001b[0m\u001b[1;33m)\u001b[0m\u001b[1;33m\u001b[0m\u001b[0m\n\u001b[0m\u001b[0;32m     13\u001b[0m \u001b[1;33m\u001b[0m\u001b[0m\n\u001b[0;32m     14\u001b[0m \u001b[0mLabel\u001b[0m\u001b[1;33m(\u001b[0m\u001b[0mtop\u001b[0m\u001b[1;33m,\u001b[0m \u001b[0mtext\u001b[0m \u001b[1;33m=\u001b[0m \u001b[1;34m\"Enter your name:\"\u001b[0m\u001b[1;33m)\u001b[0m\u001b[1;33m.\u001b[0m\u001b[0mpack\u001b[0m\u001b[1;33m(\u001b[0m\u001b[0mside\u001b[0m \u001b[1;33m=\u001b[0m \u001b[0mTOP\u001b[0m\u001b[1;33m)\u001b[0m\u001b[1;33m\u001b[0m\u001b[0m\n",
      "\u001b[1;32mD:\\Anaconda3\\envs\\tensorflow\\lib\\tkinter\\__init__.py\u001b[0m in \u001b[0;36mwm_iconbitmap\u001b[1;34m(self, bitmap, default)\u001b[0m\n\u001b[0;32m   1722\u001b[0m             \u001b[1;32mreturn\u001b[0m \u001b[0mself\u001b[0m\u001b[1;33m.\u001b[0m\u001b[0mtk\u001b[0m\u001b[1;33m.\u001b[0m\u001b[0mcall\u001b[0m\u001b[1;33m(\u001b[0m\u001b[1;34m'wm'\u001b[0m\u001b[1;33m,\u001b[0m \u001b[1;34m'iconbitmap'\u001b[0m\u001b[1;33m,\u001b[0m \u001b[0mself\u001b[0m\u001b[1;33m.\u001b[0m\u001b[0m_w\u001b[0m\u001b[1;33m,\u001b[0m \u001b[1;34m'-default'\u001b[0m\u001b[1;33m,\u001b[0m \u001b[0mdefault\u001b[0m\u001b[1;33m)\u001b[0m\u001b[1;33m\u001b[0m\u001b[0m\n\u001b[0;32m   1723\u001b[0m         \u001b[1;32melse\u001b[0m\u001b[1;33m:\u001b[0m\u001b[1;33m\u001b[0m\u001b[0m\n\u001b[1;32m-> 1724\u001b[1;33m             \u001b[1;32mreturn\u001b[0m \u001b[0mself\u001b[0m\u001b[1;33m.\u001b[0m\u001b[0mtk\u001b[0m\u001b[1;33m.\u001b[0m\u001b[0mcall\u001b[0m\u001b[1;33m(\u001b[0m\u001b[1;34m'wm'\u001b[0m\u001b[1;33m,\u001b[0m \u001b[1;34m'iconbitmap'\u001b[0m\u001b[1;33m,\u001b[0m \u001b[0mself\u001b[0m\u001b[1;33m.\u001b[0m\u001b[0m_w\u001b[0m\u001b[1;33m,\u001b[0m \u001b[0mbitmap\u001b[0m\u001b[1;33m)\u001b[0m\u001b[1;33m\u001b[0m\u001b[0m\n\u001b[0m\u001b[0;32m   1725\u001b[0m     \u001b[0miconbitmap\u001b[0m \u001b[1;33m=\u001b[0m \u001b[0mwm_iconbitmap\u001b[0m\u001b[1;33m\u001b[0m\u001b[0m\n\u001b[0;32m   1726\u001b[0m     \u001b[1;32mdef\u001b[0m \u001b[0mwm_iconify\u001b[0m\u001b[1;33m(\u001b[0m\u001b[0mself\u001b[0m\u001b[1;33m)\u001b[0m\u001b[1;33m:\u001b[0m\u001b[1;33m\u001b[0m\u001b[0m\n",
      "\u001b[1;31mTclError\u001b[0m: bitmap \"py-blue-trans-out.ico\" not defined"
     ]
    }
   ],
   "source": [
    "\n",
    "from tkinter import *\n",
    "from tkinter.messagebox import showinfo\n",
    "\n",
    "def reply(name):\n",
    "    showinfo(title = \"Reply\", message = 'Hello $s' %name)\n",
    "    \n",
    "top = Tk()\n",
    "top.title('Echo')\n",
    "top.iconbitmap('py-blue-trans-out.ico')\n",
    "\n",
    "Label(top, text = \"Enter your name:\").pack(side = TOP)\n",
    "ent = Entry(top)\n",
    "ent.pack(side = TOP)\n",
    "btn = Button(top, text ='Submit', command=  (lambda:reply(ent.get())))\n",
    "btn.pack(side = LEFT)\n",
    "\n",
    "top.mainloop()\n",
    "\n",
    "\n"
   ]
  },
  {
   "cell_type": "code",
   "execution_count": 33,
   "metadata": {},
   "outputs": [],
   "source": [
    "from tkinter import *\n",
    "from tkinter.messagebox import showinfo\n",
    "\n",
    "import shelve\n",
    "shelvename = 'class-shelve'\n",
    "fieldnames = ('name', 'age','job', 'pay')\n",
    "\n",
    "def makeWidgets():\n",
    "    global entries\n",
    "    window = Tk() \n",
    "    window.title('People Shelve')\n",
    "    form = Frame(window)\n",
    "    form.pack()\n",
    "    entries = {}\n",
    "    for (ix, label)  in enumerate(('key',)+ fieldnames):\n",
    "        lab = Label(form, text = label)\n",
    "        ent = Entry(form)\n",
    "        lab.grid(row = ix, column = 0)\n",
    "        ent.grid(row = ix, column = 1)\n",
    "        entries['label'] = ent\n",
    "    Button(window, text =\"Fetch\", command = fetchRecord ).pack(side=LEFT)\n",
    "    Button(window, text ='Update', command = updateRecord ).pack(side=LEFT)\n",
    "    Button(window, text ='Quit', command = window.quit ).pack(side=RIGHT)\n",
    "    return window\n",
    "\n",
    "def fetchRecord():\n",
    "    key = entries['key'].get()\n",
    "    try:\n",
    "        record = db[key]\n",
    "    except:\n",
    "        showerror(title=\"Error\", message = 'No such key!')\n",
    "    else:\n",
    "        for field in fieldnames:\n",
    "            entries[field].delete(0,END)\n",
    "            entries[field].insert(0, repr(getattr(record, field)))\n",
    "            \n",
    "def updateRecord():\n",
    "    key = entries['key'].get()\n",
    "    if key in db:\n",
    "        record = db[key]\n",
    "    else:\n",
    "        from person import Person\n",
    "        record = Person(name = \"?\", age = \"?\")\n",
    "    for field in fieldnames:\n",
    "        setattr(record, field, eval(entries[field].get()))\n",
    "        db[key] = record\n",
    "\n",
    "db = shelve.open(shelvename)\n",
    "window = makeWidgets()\n",
    "window.mainloop()\n",
    "db.close()\n"
   ]
  },
  {
   "cell_type": "code",
   "execution_count": null,
   "metadata": {
    "collapsed": true
   },
   "outputs": [],
   "source": []
  }
 ],
 "metadata": {
  "kernelspec": {
   "display_name": "Python 3",
   "language": "python",
   "name": "python3"
  },
  "language_info": {
   "codemirror_mode": {
    "name": "ipython",
    "version": 3
   },
   "file_extension": ".py",
   "mimetype": "text/x-python",
   "name": "python",
   "nbconvert_exporter": "python",
   "pygments_lexer": "ipython3",
   "version": "3.5.4"
  }
 },
 "nbformat": 4,
 "nbformat_minor": 2
}
