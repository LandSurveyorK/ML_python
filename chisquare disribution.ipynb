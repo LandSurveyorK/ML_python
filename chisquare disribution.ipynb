{
 "cells": [
  {
   "cell_type": "code",
   "execution_count": 2,
   "metadata": {
    "collapsed": true
   },
   "outputs": [],
   "source": [
    "import numpy as np\n",
    "import matplotlib.pyplot as plt\n"
   ]
  },
  {
   "cell_type": "code",
   "execution_count": 8,
   "metadata": {},
   "outputs": [],
   "source": [
    "from scipy.stats import ncx2\n",
    "import matplotlib.pyplot as plt"
   ]
  },
  {
   "cell_type": "code",
   "execution_count": 44,
   "metadata": {
    "collapsed": true
   },
   "outputs": [],
   "source": [
    "def nonChiPdf( nc ):\n",
    "    df = 1\n",
    "    x = np.linspace(ncx2.ppf(0.01, df, nc),ncx2.ppf(0.99, df, nc), 100)\n",
    "    mean, var, skew, kurt = ncx2.stats(df, nc, moments='mvsk')\n",
    "    rv = ncx2(df, nc)\n",
    "    \n",
    "    return x, rv\n"
   ]
  },
  {
   "cell_type": "code",
   "execution_count": 45,
   "metadata": {},
   "outputs": [],
   "source": [
    "#x = np.linspace(ncx2.ppf(0.01, df, nc),\n",
    "#...               ncx2.ppf(0.99, df, nc), 100)\n",
    "#plt.plot(x, ncx2.pdf(x, df, nc),\n",
    "#...          'r-', lw=5, alpha=0.6, label='ncx2 pdf')\n",
    "#plt.show()"
   ]
  },
  {
   "cell_type": "code",
   "execution_count": 60,
   "metadata": {},
   "outputs": [
    {
     "data": {
      "image/png": "[encoded data removed]",
      "text/plain": [
       "<matplotlib.figure.Figure at 0x3fa711be0>"
      ]
     },
     "metadata": {},
     "output_type": "display_data"
    }
   ],
   "source": [
    "for i in [3]:\n",
    "    x, rv = nonChiPdf(i)\n",
    "    plt.plot(x, rv.pdf(x), 'k-', lw=2)\n",
    "plt.show()"
   ]
  },
  {
   "cell_type": "code",
   "execution_count": null,
   "metadata": {
    "collapsed": true
   },
   "outputs": [],
   "source": []
  }
 ],
 "metadata": {
  "kernelspec": {
   "display_name": "Python 3",
   "language": "python",
   "name": "python3"
  },
  "language_info": {
   "codemirror_mode": {
    "name": "ipython",
    "version": 3
   },
   "file_extension": ".py",
   "mimetype": "text/x-python",
   "name": "python",
   "nbconvert_exporter": "python",
   "pygments_lexer": "ipython3",
   "version": "3.6.1"
  }
 },
 "nbformat": 4,
 "nbformat_minor": 2
}
