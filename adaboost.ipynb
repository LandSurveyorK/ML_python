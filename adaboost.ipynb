{
 "cells": [
  {
   "cell_type": "markdown",
   "metadata": {},
   "source": [
    "## Load simulation data"
   ]
  },
  {
   "cell_type": "code",
   "execution_count": 2,
   "metadata": {
    "collapsed": true
   },
   "outputs": [],
   "source": [
    "import numpy as np \n",
    "import scipy \n",
    "import pandas\n",
    "import sklearn \n",
    "\n",
    "def loadsimData():\n",
    "    dataArr = np.matrix([[1, 2.1],\n",
    "                        [2, 1.1],\n",
    "                        [1.3, 1.],\n",
    "                        [1., 1.],\n",
    "                        [2., 1.]])\n",
    "    classLabels = [1.0, 1.0, -1.0, -1.0, 1.0]\n",
    "    return dataArr, classLabels\n",
    "\n"
   ]
  },
  {
   "cell_type": "code",
   "execution_count": 4,
   "metadata": {},
   "outputs": [
    {
     "name": "stdout",
     "output_type": "stream",
     "text": [
      "[[ 1.   2.1]\n",
      " [ 2.   1.1]\n",
      " [ 1.3  1. ]\n",
      " [ 1.   1. ]\n",
      " [ 2.   1. ]] [1.0, 1.0, -1.0, -1.0, 1.0]\n"
     ]
    }
   ],
   "source": [
    "dataArr, classLabels = loadsimData()\n",
    "print(dataArr,classLabels)"
   ]
  },
  {
   "cell_type": "markdown",
   "metadata": {},
   "source": [
    "## Load zillow data"
   ]
  },
  {
   "cell_type": "code",
   "execution_count": 264,
   "metadata": {
    "collapsed": true
   },
   "outputs": [],
   "source": [
    "\n",
    "import pandas as pd\n",
    "\n",
    "def loadDataSet():\n",
    "    dataMat = []; labelMat = []\n",
    "    \n",
    "    zillow = pd.read_csv('binData.csv')\n",
    "    q2 = np.percentile(zillow.iloc[:,1],95)\n",
    "    q1 = np.percentile(zillow.iloc[:,1],5)\n",
    "    \n",
    "    zillow = zillow.loc[(zillow.iloc[:,1]  > q1) & (zillow.iloc[:,1] < q2) ]\n",
    "    labelMat  = np.array(np.sign(zillow.iloc[:,1]))\n",
    "    p = len(zillow.columns)\n",
    "    dataMat = np.array(zillow[list(zillow.columns[2:p])])\n",
    "    \n",
    "    return dataMat, labelMat"
   ]
  },
  {
   "cell_type": "code",
   "execution_count": 265,
   "metadata": {},
   "outputs": [
    {
     "name": "stdout",
     "output_type": "stream",
     "text": [
      "[ 1.  1.  1. ...,  1. -1.  1.]\n",
      "(81157, 61)\n"
     ]
    }
   ],
   "source": [
    "dataMat, labelMat = loadDataSet()\n",
    "print(labelMat)\n",
    "print(dataMat.shape)\n"
   ]
  },
  {
   "cell_type": "markdown",
   "metadata": {},
   "source": [
    "## Decision stump "
   ]
  },
  {
   "cell_type": "code",
   "execution_count": 243,
   "metadata": {
    "collapsed": true
   },
   "outputs": [],
   "source": [
    "def stumpClassify(dataMatrix, dimen, thresVal, thresIneq):\n",
    "    recArray = np.ones((np.shape(dataMatrix)[0],1))\n",
    "    if thresIneq == 'lt':\n",
    "        recArray[dataMatrix[:,dimen] <= thresVal] = -1.0\n",
    "    else:\n",
    "        recArray[dataMatrix[:,dimen] > thresVal] = - 1.0\n",
    "    return recArray\n",
    "\n",
    "    "
   ]
  },
  {
   "cell_type": "markdown",
   "metadata": {},
   "source": [
    "## Build best Stump\n",
    "\n",
    "Set minError as $\\infty$\n",
    "\n",
    "``` python \n",
    "for f in features: \n",
    "    \n",
    "    for every step:\n",
    "    \n",
    "       for every inequalities:\n",
    "       \n",
    "           create a decision stump\n",
    "           \n",
    "           If erorr rate < minError, set it as the best decision stump\n",
    "           \n",
    "return the best decision stump\n",
    "```\n"
   ]
  },
  {
   "cell_type": "code",
   "execution_count": 244,
   "metadata": {
    "collapsed": true
   },
   "outputs": [],
   "source": [
    "\n",
    "import numpy as np\n",
    "\n",
    "def buildStump(dataArr, classLabels,D):\n",
    "    dataMatrix = np.mat(dataArr); labelMat = np.mat(classLabels).T\n",
    "    n,m = np.shape(dataMatrix)\n",
    "    minError = np.inf; numSteps = 4; bestStump = {};\n",
    "    for i in range(m):\n",
    "        rangeMin = dataMatrix[:,i].min(); rangeMax = dataMatrix[:,i].max()\n",
    "        stepSize = ( rangeMax - rangeMin ) / numSteps\n",
    "        for j in range(-1, int(numSteps) + 1 ):\n",
    "            thresVal = rangeMin + float(j )* stepSize\n",
    "            for thresIneq in ['lt','gt']:\n",
    "                predictLabels = stumpClassify(dataMatrix, i, thresVal, thresIneq )\n",
    "                errorArr = np.mat(np.ones((n,1)))\n",
    "                errorArr[predictLabels == labelMat] = 0\n",
    "                weightedError = D.T * errorArr \n",
    "              #  print(\"split: dim %d, thresh: %.2f, thres Ineq: %s, the weighted error: %.3f\"\\\n",
    "              #      %(i, thresVal, thresIneq, weightedError))\n",
    "                \n",
    "                if weightedError < minError:\n",
    "                    minError = weightedError \n",
    "                    bestClassEst = predictLabels\n",
    "                    bestStump['dim'] = i\n",
    "                    bestStump['thresVal'] = thresVal\n",
    "                    bestStump['Ineq'] = thresIneq\n",
    "                    \n",
    "    return bestStump, minError, bestClassEst\n",
    "                             "
   ]
  },
  {
   "cell_type": "code",
   "execution_count": 245,
   "metadata": {
    "collapsed": true
   },
   "outputs": [],
   "source": [
    "\n",
    "import numpy as np\n",
    "\n",
    "D = np.mat(np.ones((5,1))/ 5)\n",
    "bestStump, minError, bestClassEst = buildStump(dataArr,classLabels,D)"
   ]
  },
  {
   "cell_type": "markdown",
   "metadata": {},
   "source": [
    "## Adaboost\n",
    "``` python\n",
    "for iter in range(numIter):\n",
    "    process buildStump()\n",
    "    add bestStump in weakClassArr\n",
    "    calculate alpha\n",
    "    update D\n",
    "    update aggClassEst\n",
    "    if error rate = 0.0: break\n",
    "```  "
   ]
  },
  {
   "cell_type": "code",
   "execution_count": 246,
   "metadata": {
    "collapsed": true
   },
   "outputs": [],
   "source": [
    "def adaboostTrainDS(dataArr, classLabels,numIter):\n",
    "    n = np.shape(dataArr)[0]\n",
    "    D = np.mat(np.ones((n,1))/ n)\n",
    "    weakClassArr = []\n",
    "    aggClassEst = np.mat(np.zeros((n,1)))\n",
    "    for i in range( numIter ):\n",
    "        bestStump, error, classEst = buildStump(dataArr,classLabels, D)\n",
    "        print(\"D: \", D.T )\n",
    "        \n",
    "        alpha =  float(0.5 * np.log((1.0 - error) / np.maximum(error,1e-16)))\n",
    "        bestStump['alpha'] = alpha\n",
    "        \n",
    "        expon =   np.multiply( -1 * np.mat(classLabels).T, classEst)\n",
    "        D = np.multiply(D , np.exp(alpha * expon))\n",
    "        D = D / D.sum()\n",
    "        \n",
    "        aggClassEst += alpha * classEst\n",
    "        aggClassError = np.multiply(np.sign(aggClassEst) != np.mat(classLabels).T, np.mat(np.ones((n,1))))\n",
    "        errorRate = aggClassError.sum() /  n\n",
    "        \n",
    "        \n",
    "        print(\"classEst: \",classEst.T)\n",
    "        print(\"aggClassEst: \", aggClassEst.T)\n",
    "        print(\"errorRate: \", errorRate)\n",
    "        \n",
    "        if errorRate == 0.0:  break\n",
    "    return weakClassArr\n",
    "        \n",
    "    "
   ]
  },
  {
   "cell_type": "code",
   "execution_count": 251,
   "metadata": {},
   "outputs": [
    {
     "name": "stdout",
     "output_type": "stream",
     "text": [
      "D:  [[ 0.2  0.2  0.2  0.2  0.2]]\n",
      "classEst:  [[-1.  1. -1. -1.  1.]]\n",
      "aggClassEst:  [[-0.69314718  0.69314718 -0.69314718 -0.69314718  0.69314718]]\n",
      "errorRate:  0.2\n",
      "D:  [[ 0.5    0.125  0.125  0.125  0.125]]\n",
      "classEst:  [[ 1.  1. -1. -1. -1.]]\n",
      "aggClassEst:  [[ 0.27980789  1.66610226 -1.66610226 -1.66610226 -0.27980789]]\n",
      "errorRate:  0.2\n",
      "D:  [[ 0.28571429  0.07142857  0.07142857  0.07142857  0.5       ]]\n",
      "classEst:  [[ 1.  1.  1.  1.  1.]]\n",
      "aggClassEst:  [[ 1.17568763  2.56198199 -0.77022252 -0.77022252  0.61607184]]\n",
      "errorRate:  0.0\n"
     ]
    }
   ],
   "source": [
    "classsifyArr = adaboostTrainDS(dataArr,classLabels,9)\n"
   ]
  },
  {
   "cell_type": "code",
   "execution_count": 266,
   "metadata": {},
   "outputs": [
    {
     "name": "stdout",
     "output_type": "stream",
     "text": [
      "D:  [[  1.23217960e-05   1.23217960e-05   1.23217960e-05 ...,   1.23217960e-05\n",
      "    1.23217960e-05   1.23217960e-05]]\n",
      "classEst:  [[ 1.  1.  1. ...,  1. -1. -1.]]\n",
      "aggClassEst:  [[ 0.1156352  0.1156352  0.1156352 ...,  0.1156352 -0.1156352 -0.1156352]]\n",
      "errorRate:  0.442438729869\n",
      "D:  [[  1.10639735e-05   1.10639735e-05   1.10639735e-05 ...,   1.10639735e-05\n",
      "    1.10639735e-05   1.39428190e-05]]\n",
      "classEst:  [[ 1.  1.  1. ...,  1.  1.  1.]]\n",
      "aggClassEst:  [[ 0.13371419  0.13371419  0.13371419 ...,  0.13371419 -0.09755622\n",
      "  -0.09755622]]\n",
      "errorRate:  0.442438729869\n",
      "D:  [[  1.08696076e-05   1.08696076e-05   1.08696076e-05 ...,   1.08696076e-05\n",
      "    1.12698224e-05   1.36978791e-05]]\n",
      "classEst:  [[ 1.  1.  1. ..., -1.  1.  1.]]\n",
      "aggClassEst:  [[ 0.14456752  0.14456752  0.14456752 ...,  0.12286086 -0.08670289\n",
      "  -0.08670289]]\n",
      "errorRate:  0.442438729869\n",
      "D:  [[  1.07541424e-05   1.07541424e-05   1.07541424e-05 ...,   1.09901309e-05\n",
      "    1.13947834e-05   1.35523698e-05]]\n",
      "classEst:  [[-1. -1. -1. ...,  1. -1. -1.]]\n",
      "aggClassEst:  [[ 0.13214655  0.13214655  0.13214655 ...,  0.13528183 -0.09912385\n",
      "  -0.09912385]]\n",
      "errorRate:  0.442438729869\n",
      "D:  [[  1.08908250e-05   1.08908250e-05   1.08908250e-05 ...,   1.08567328e-05\n",
      "    1.12564736e-05   1.37246173e-05]]\n",
      "classEst:  [[ 1.  1.  1. ...,  1.  1.  1.]]\n",
      "aggClassEst:  [[ 0.13786692  0.13786692  0.13786692 ...,  0.14100219 -0.09340349\n",
      "  -0.09340349]]\n",
      "errorRate:  0.442438729869\n",
      "D:  [[  1.08295346e-05   1.08295346e-05   1.08295346e-05 ...,   1.07956343e-05\n",
      "    1.13219183e-05   1.36473791e-05]]\n",
      "classEst:  [[ 1. -1. -1. ..., -1.  1.  1.]]\n",
      "aggClassEst:  [[ 0.14232112  0.13341271  0.13341271 ...,  0.13654798 -0.08894928\n",
      "  -0.08894928]]\n",
      "errorRate:  0.442438729869\n",
      "D:  [[  1.07820187e-05   1.08784984e-05   1.08784984e-05 ...,   1.08444448e-05\n",
      "    1.13731083e-05   1.35874995e-05]]\n",
      "classEst:  [[ 1.  1.  1. ...,  1.  1.  1.]]\n",
      "aggClassEst:  [[ 0.14421634  0.13530793  0.13530793 ...,  0.1384432  -0.08705407\n",
      "  -0.08705407]]\n",
      "errorRate:  0.442438729869\n",
      "D:  [[  1.07618380e-05   1.08581372e-05   1.08581372e-05 ...,   1.08241473e-05\n",
      "    1.13949313e-05   1.35620679e-05]]\n",
      "classEst:  [[-1. -1. -1. ...,  1. -1. -1.]]\n",
      "aggClassEst:  [[ 0.14189941  0.132991    0.132991   ...,  0.14076013 -0.089371   -0.089371  ]]\n",
      "errorRate:  0.442438729869\n",
      "D:  [[  1.07870938e-05   1.08836190e-05   1.08836190e-05 ...,   1.07993903e-05\n",
      "    1.13688688e-05   1.35938952e-05]]\n",
      "classEst:  [[ 1.  1.  1. ..., -1.  1.  1.]]\n",
      "aggClassEst:  [[ 0.14382239  0.13491398  0.13491398 ...,  0.13883715 -0.08744802\n",
      "  -0.08744802]]\n",
      "errorRate:  0.442438729869\n",
      "D:  [[  1.07666085e-05   1.08629503e-05   1.08629503e-05 ...,   1.08204166e-05\n",
      "    1.13910038e-05   1.35680796e-05]]\n",
      "classEst:  [[ 1.  1.  1. ...,  1.  1.  1.]]\n",
      "aggClassEst:  [[ 0.14566655  0.13675814  0.13675814 ...,  0.14068131 -0.08560386\n",
      "  -0.08560386]]\n",
      "errorRate:  0.442438729869\n",
      "D:  [[  1.07469986e-05   1.08431650e-05   1.08431650e-05 ...,   1.08007087e-05\n",
      "    1.14122713e-05   1.35433672e-05]]\n",
      "classEst:  [[-1. -1. -1. ...,  1. -1. -1.]]\n",
      "aggClassEst:  [[ 0.14460689  0.13569848  0.13569848 ...,  0.14174097 -0.08666352\n",
      "  -0.08666352]]\n",
      "errorRate:  0.442438729869\n",
      "D:  [[  1.07585189e-05   1.08547884e-05   1.08547884e-05 ...,   1.07893962e-05\n",
      "    1.14003182e-05   1.35578852e-05]]\n",
      "classEst:  [[ 1.  1.  1. ..., -1.  1.  1.]]\n",
      "aggClassEst:  [[ 0.14538913  0.13648071  0.13648071 ...,  0.14095873 -0.08588128\n",
      "  -0.08588128]]\n",
      "errorRate:  0.442438729869\n"
     ]
    }
   ],
   "source": [
    "zillowClassifyArr = adaboostTrainDS(dataMat,labelMat,12)"
   ]
  },
  {
   "cell_type": "code",
   "execution_count": 249,
   "metadata": {},
   "outputs": [
    {
     "ename": "NameError",
     "evalue": "name 'aggClassEst' is not defined",
     "output_type": "error",
     "traceback": [
      "\u001b[1;31m---------------------------------------------------------------------------\u001b[0m",
      "\u001b[1;31mNameError\u001b[0m                                 Traceback (most recent call last)",
      "\u001b[1;32m<ipython-input-249-41b9aeed7476>\u001b[0m in \u001b[0;36m<module>\u001b[1;34m()\u001b[0m\n\u001b[1;32m----> 1\u001b[1;33m \u001b[0mprint\u001b[0m\u001b[1;33m(\u001b[0m\u001b[0maggClassEst\u001b[0m\u001b[1;33m.\u001b[0m\u001b[0msum\u001b[0m\u001b[1;33m(\u001b[0m\u001b[1;33m)\u001b[0m\u001b[1;33m)\u001b[0m\u001b[1;33m\u001b[0m\u001b[0m\n\u001b[0m",
      "\u001b[1;31mNameError\u001b[0m: name 'aggClassEst' is not defined"
     ]
    }
   ],
   "source": []
  },
  {
   "cell_type": "code",
   "execution_count": null,
   "metadata": {
    "collapsed": true
   },
   "outputs": [],
   "source": []
  }
 ],
 "metadata": {
  "kernelspec": {
   "display_name": "Python 3",
   "language": "python",
   "name": "python3"
  },
  "language_info": {
   "codemirror_mode": {
    "name": "ipython",
    "version": 3
   },
   "file_extension": ".py",
   "mimetype": "text/x-python",
   "name": "python",
   "nbconvert_exporter": "python",
   "pygments_lexer": "ipython3",
   "version": "3.6.1"
  }
 },
 "nbformat": 4,
 "nbformat_minor": 2
}
