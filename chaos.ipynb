{
 "cells": [
  {
   "cell_type": "code",
   "execution_count": null,
   "metadata": {},
   "outputs": [],
   "source": [
    "#\n",
    "#   chaos-3.py\n",
    "#\n",
    "#  Build Feigenbaum Logistic map. Input start and end K\n",
    "#\n",
    "#  python chaos-3.py 3.4 3.9  \n",
    "#\n",
    "import tkinter \n",
    "\n",
    "canWidth=500\n",
    "canHeight=500\n",
    "\n",
    "def setupWindow () :\n",
    "    global win, canvas\n",
    "    from tkinter import Tk, Canvas, Frame\n",
    "    win = Tk()\n",
    "    canvas = Canvas(win, height=canHeight, width=canWidth)\n",
    "    f = Frame (win)    \n",
    "    canvas.pack()\n",
    "    f.pack()\n",
    "\n",
    "def startApp () :\n",
    "    global win, canvas\n",
    "    import sys\n",
    "    k1  = float(sys.argv[1])   # starting value of K\n",
    "    k2  = float(sys.argv[2])   # ending   value of K\n",
    "    x = .2                     # is somewhat arbitrary\n",
    "    vrng = range(200)          # We'll do 200 horz steps\n",
    "    for t in range(canWidth) :\n",
    "        win.update()\n",
    "        k = k1 + (k2-k1)*t/canWidth\n",
    "        print(\"K = %.04f\" % k)\n",
    "        for i in vrng :\n",
    "            p = x*canHeight\n",
    "            canvas.create_line(t,p,t,p+1)  # just makes a pixel dot\n",
    "            x = x * (1-x) * k              # next x value\n",
    "            if x <=0 or x >= 1.0 :\n",
    "                print(\"overflow at k\", k)\n",
    "                return\n",
    "    \n",
    "def main () :\n",
    "    setupWindow()       # Create Canvas with Frame\n",
    "    startApp()          # Start up the display  \n",
    "    win.mainloop()      # Just wait for user to close graph\n",
    "\n",
    "if __name__ == \"__main__\" : main()"
   ]
  }
 ],
 "metadata": {
  "kernelspec": {
   "display_name": "Python 3",
   "language": "python",
   "name": "python3"
  },
  "language_info": {
   "codemirror_mode": {
    "name": "ipython",
    "version": 3
   },
   "file_extension": ".py",
   "mimetype": "text/x-python",
   "name": "python",
   "nbconvert_exporter": "python",
   "pygments_lexer": "ipython3",
   "version": "3.6.1"
  }
 },
 "nbformat": 4,
 "nbformat_minor": 2
}
