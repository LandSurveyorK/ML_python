{
 "cells": [
  {
   "cell_type": "code",
   "execution_count": 3,
   "metadata": {},
   "outputs": [
    {
     "ename": "ModuleNotFoundError",
     "evalue": "No module named 'Tkinter'",
     "output_type": "error",
     "traceback": [
      "\u001b[1;31m---------------------------------------------------------------------------\u001b[0m",
      "\u001b[1;31mModuleNotFoundError\u001b[0m                       Traceback (most recent call last)",
      "\u001b[1;32m<ipython-input-3-81ec044f4c7d>\u001b[0m in \u001b[0;36m<module>\u001b[1;34m()\u001b[0m\n\u001b[0;32m      6\u001b[0m \u001b[1;31m#  python chaos-3.py 3.4 3.9\u001b[0m\u001b[1;33m\u001b[0m\u001b[1;33m\u001b[0m\u001b[0m\n\u001b[0;32m      7\u001b[0m \u001b[1;31m#\u001b[0m\u001b[1;33m\u001b[0m\u001b[1;33m\u001b[0m\u001b[0m\n\u001b[1;32m----> 8\u001b[1;33m \u001b[1;32mimport\u001b[0m \u001b[0mTkinter\u001b[0m\u001b[1;33m\u001b[0m\u001b[0m\n\u001b[0m\u001b[0;32m      9\u001b[0m \u001b[1;33m\u001b[0m\u001b[0m\n\u001b[0;32m     10\u001b[0m \u001b[0mcanWidth\u001b[0m\u001b[1;33m=\u001b[0m\u001b[1;36m500\u001b[0m\u001b[1;33m\u001b[0m\u001b[0m\n",
      "\u001b[1;31mModuleNotFoundError\u001b[0m: No module named 'Tkinter'"
     ]
    }
   ],
   "source": [
    "#\n",
    "#   chaos-3.py\n",
    "#\n",
    "#  Build Feigenbaum Logistic map. Input start and end K\n",
    "#\n",
    "#  python chaos-3.py 3.4 3.9  \n",
    "#\n",
    "import Tkinter \n",
    "\n",
    "canWidth=500\n",
    "canHeight=500\n",
    "\n",
    "def setupWindow () :\n",
    "    global win, canvas\n",
    "    from Tkinter import Tk, Canvas, Frame\n",
    "    win = Tk()\n",
    "    canvas = Canvas(win, height=canHeight, width=canWidth)\n",
    "    f = Frame (win)    \n",
    "    canvas.pack()\n",
    "    f.pack()\n",
    "\n",
    "def startApp () :\n",
    "    global win, canvas\n",
    "    import sys\n",
    "    k1  = float(sys.argv[1])   # starting value of K\n",
    "    k2  = float(sys.argv[2])   # ending   value of K\n",
    "    x = .2                     # is somewhat arbitrary\n",
    "    vrng = range(200)          # We'll do 200 horz steps\n",
    "    for t in range(canWidth) :\n",
    "        win.update()\n",
    "        k = k1 + (k2-k1)*t/canWidth\n",
    "        print(\"K = %.04f\" % k)\n",
    "        for i in vrng :\n",
    "            p = x*canHeight\n",
    "            canvas.create_line(t,p,t,p+1)  # just makes a pixel dot\n",
    "            x = x * (1-x) * k              # next x value\n",
    "            if x <=0 or x >= 1.0 :\n",
    "                print(\"overflow at k\", k)\n",
    "                return\n",
    "    \n",
    "def main () :\n",
    "    setupWindow()       # Create Canvas with Frame\n",
    "    startApp()          # Start up the display  \n",
    "    win.mainloop()      # Just wait for user to close graph\n",
    "\n",
    "if __name__ == \"__main__\" : main()"
   ]
  }
 ],
 "metadata": {
  "kernelspec": {
   "display_name": "Python 3",
   "language": "python",
   "name": "python3"
  },
  "language_info": {
   "codemirror_mode": {
    "name": "ipython",
    "version": 3
   },
   "file_extension": ".py",
   "mimetype": "text/x-python",
   "name": "python",
   "nbconvert_exporter": "python",
   "pygments_lexer": "ipython3",
   "version": "3.6.1"
  }
 },
 "nbformat": 4,
 "nbformat_minor": 2
}
