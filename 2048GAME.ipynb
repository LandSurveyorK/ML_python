{
 "cells": [
  {
   "cell_type": "code",
   "execution_count": 4,
   "metadata": {
    "collapsed": true
   },
   "outputs": [],
   "source": [
    "from random import *\n",
    "import numpy as np\n"
   ]
  },
  {
   "cell_type": "code",
   "execution_count": 5,
   "metadata": {},
   "outputs": [
    {
     "name": "stdout",
     "output_type": "stream",
     "text": [
      "<class 'list'>\n"
     ]
    }
   ],
   "source": [
    "def new_game(n):\n",
    "    matrix = []\n",
    "    for i in range(n):\n",
    "        matrix.append([0] * n)\n",
    "    return matrix\n",
    "M  = new_game(4)\n",
    "print(type(M))"
   ]
  },
  {
   "cell_type": "code",
   "execution_count": 6,
   "metadata": {},
   "outputs": [
    {
     "data": {
      "text/plain": [
       "[[0, 0, 0, 0], [0, 0, 0, 0], [0, 0, 0, 0], [0, 2, 0, 0]]"
      ]
     },
     "execution_count": 6,
     "metadata": {},
     "output_type": "execute_result"
    }
   ],
   "source": [
    "def add_two( M ):\n",
    "    n = len(M)\n",
    "    a = randint(0,n-1)\n",
    "    b = randint(0,n-1)\n",
    "    while (M[a][b] != 0):\n",
    "        a = randint(0,n-1)\n",
    "        b = randint(0,n-1)\n",
    "    M[a][b] = 2\n",
    "    return M\n",
    "\n",
    "add_two(M)"
   ]
  },
  {
   "cell_type": "code",
   "execution_count": 1,
   "metadata": {
    "collapsed": true
   },
   "outputs": [],
   "source": [
    "def game_status(M):\n",
    "    n = len(M)\n",
    "    MM = []\n",
    "    for i in range(n+2):\n",
    "        MM.append([0] * (n+2))\n",
    "    \n",
    "    for i in range(n):\n",
    "        for j in range(n):\n",
    "            MM[i+1][j+1] = M[i][j]\n",
    "            if M[i][j] == 2048:\n",
    "                return \"win\"\n",
    "    for i in range(1,n  + 1 ):\n",
    "        for j in range(1,n + 1 ):\n",
    "            if (MM[i][j] == MM[i+ 1][j] or MM[i][j] == MM[i-1][j] \n",
    "                or MM[i][j] == MM[i][j+1] or MM[i][j] == MM[i][j-1] or MM[i][j] == 0):\n",
    "                return \"not over\"\n",
    "    return \"lose\"\n",
    "            \n"
   ]
  },
  {
   "cell_type": "code",
   "execution_count": 2,
   "metadata": {},
   "outputs": [
    {
     "ename": "NameError",
     "evalue": "name 'np' is not defined",
     "output_type": "error",
     "traceback": [
      "\u001b[1;31m---------------------------------------------------------------------------\u001b[0m",
      "\u001b[1;31mNameError\u001b[0m                                 Traceback (most recent call last)",
      "\u001b[1;32m<ipython-input-2-b864d813fd2e>\u001b[0m in \u001b[0;36m<module>\u001b[1;34m()\u001b[0m\n\u001b[1;32m----> 1\u001b[1;33m M = np.array([[16,2,4,2],\n\u001b[0m\u001b[0;32m      2\u001b[0m             \u001b[1;33m[\u001b[0m\u001b[1;36m64\u001b[0m\u001b[1;33m,\u001b[0m\u001b[1;36m8\u001b[0m\u001b[1;33m,\u001b[0m\u001b[1;36m32\u001b[0m\u001b[1;33m,\u001b[0m\u001b[1;36m4\u001b[0m\u001b[1;33m]\u001b[0m\u001b[1;33m,\u001b[0m\u001b[1;33m\u001b[0m\u001b[0m\n\u001b[0;32m      3\u001b[0m             \u001b[1;33m[\u001b[0m\u001b[1;36m8\u001b[0m\u001b[1;33m,\u001b[0m\u001b[1;36m64\u001b[0m\u001b[1;33m,\u001b[0m\u001b[1;36m16\u001b[0m\u001b[1;33m,\u001b[0m\u001b[1;36m8\u001b[0m\u001b[1;33m]\u001b[0m\u001b[1;33m,\u001b[0m\u001b[1;33m\u001b[0m\u001b[0m\n\u001b[0;32m      4\u001b[0m             [4,32,4,2]])\n\u001b[0;32m      5\u001b[0m \u001b[0mgame_status\u001b[0m\u001b[1;33m(\u001b[0m\u001b[0mM\u001b[0m\u001b[1;33m)\u001b[0m\u001b[1;33m\u001b[0m\u001b[0m\n",
      "\u001b[1;31mNameError\u001b[0m: name 'np' is not defined"
     ]
    }
   ],
   "source": [
    "M = np.array([[16,2,4,2],\n",
    "            [64,8,32,4],\n",
    "            [8,64,16,8],\n",
    "            [4,32,4,2]])\n",
    "game_status(M)"
   ]
  },
  {
   "cell_type": "code",
   "execution_count": null,
   "metadata": {},
   "outputs": [],
   "source": [
    "def reverse(M):\n",
    "    new = []\n",
    "    for i in range(len(M)):\n",
    "        new.append([])\n",
    "        for j in range(len(M)):\n",
    "            new[i].append(M[i][len(M)-j-1])\n",
    "    return new\n",
    "    \n",
    "    \n",
    "def transpose(M):\n",
    "    new = []\n",
    "    for i in range(len(M)):\n",
    "        new.append([])\n",
    "        for j in range(len(M)):\n",
    "            new[i].append(M[j][i])\n",
    "    return new\n",
    "\n",
    "def merge(M):\n",
    "    done = False\n",
    "    for i in range(len(M)):\n",
    "        for j in range(len(M)-1):\n",
    "            if M[i][j] == M[i][j+1] and M[i][j] != 0:\n",
    "                M[i][j] = 2*M[i][j]\n",
    "                M[i][j+1] = 0\n",
    "                done = True\n",
    "    return(M, done)\n",
    "\n",
    "def cover_up(M):\n",
    "    new=[[0,0,0,0],[0,0,0,0],[0,0,0,0],[0,0,0,0]]\n",
    "    done = False\n",
    "    for i in range(len(M)):\n",
    "        count = 0\n",
    "        for j in range(len(M)):\n",
    "            if M[i][j] != 0:\n",
    "                new[i][count] = M[i][j]\n",
    "                if j != count:\n",
    "                    done = True\n",
    "                count += 1\n",
    "    return(new, done)\n",
    "    \n",
    "    \n",
    "print(M)\n",
    "print(reverse(M))\n",
    "print(transpose(M))\n",
    "print(merge(M))\n",
    "print(cover_up(M))"
   ]
  },
  {
   "cell_type": "code",
   "execution_count": null,
   "metadata": {},
   "outputs": [],
   "source": [
    "def up(game):\n",
    "    print(\"up\")\n",
    "    game = transpose(game)\n",
    "    game, done = cover_up(game)\n",
    "    temp = merge(game)\n",
    "    game = temp[0]\n",
    "    done = temp[1] or done\n",
    "    game = cover_up(game)[0]\n",
    "    game = transpose(game)\n",
    "    return (game, done)\n",
    "\n",
    "def down(game):\n",
    "    print(\"down\")\n",
    "    game = reverse(transpose(game))\n",
    "    game, done = cover_up(game)\n",
    "    temp = merge(game)\n",
    "    game = temp[0]\n",
    "    done = temp[1] or done\n",
    "    game = cover_up(game)[0]\n",
    "    game = transpose(reverse(game))\n",
    "    return (game, done)\n",
    "    \n",
    "def left(game):\n",
    "    print(\"left\")\n",
    "    game, done = cover_up(game)\n",
    "    temp = merge(game)\n",
    "    game = temp[0]\n",
    "    done = temp[1] or done\n",
    "    game = cover_up(game)[0]\n",
    "    return (game, done)\n",
    "\n",
    "def right(game):\n",
    "    print(\"right\")\n",
    "    game = reverse(game)\n",
    "    game, done = cover_up(game)\n",
    "    temp = merge(game)\n",
    "    game = temp[0]\n",
    "    done = temp[1] or done\n",
    "    game = cover_up(game)[0]\n",
    "    game = reverse(game)\n",
    "    return (game, done)\n",
    "\n",
    "print(np.max(M))\n",
    "print(up(M))\n",
    "print(left(M))\n",
    "print(down(M))\n",
    "print(right(M))\n",
    "    "
   ]
  },
  {
   "cell_type": "code",
   "execution_count": null,
   "metadata": {
    "collapsed": true
   },
   "outputs": [],
   "source": []
  },
  {
   "cell_type": "code",
   "execution_count": 3,
   "metadata": {},
   "outputs": [
    {
     "ename": "NameError",
     "evalue": "name 'up' is not defined",
     "output_type": "error",
     "traceback": [
      "\u001b[1;31m---------------------------------------------------------------------------\u001b[0m",
      "\u001b[1;31mNameError\u001b[0m                                 Traceback (most recent call last)",
      "\u001b[1;32m<ipython-input-3-cfee3161c859>\u001b[0m in \u001b[0;36m<module>\u001b[1;34m()\u001b[0m\n\u001b[0;32m    104\u001b[0m \u001b[1;33m\u001b[0m\u001b[0m\n\u001b[0;32m    105\u001b[0m \u001b[1;33m\u001b[0m\u001b[0m\n\u001b[1;32m--> 106\u001b[1;33m \u001b[0mgamegrid\u001b[0m \u001b[1;33m=\u001b[0m \u001b[0mGameGrid\u001b[0m\u001b[1;33m(\u001b[0m\u001b[1;33m)\u001b[0m\u001b[1;33m\u001b[0m\u001b[0m\n\u001b[0m\u001b[0;32m    107\u001b[0m \u001b[1;33m\u001b[0m\u001b[0m\n\u001b[0;32m    108\u001b[0m \u001b[1;33m\u001b[0m\u001b[0m\n",
      "\u001b[1;32m<ipython-input-3-cfee3161c859>\u001b[0m in \u001b[0;36m__init__\u001b[1;34m(self)\u001b[0m\n\u001b[0;32m     34\u001b[0m \u001b[1;33m\u001b[0m\u001b[0m\n\u001b[0;32m     35\u001b[0m         \u001b[1;31m# self.gamelogic =gamelogic\u001b[0m\u001b[1;33m\u001b[0m\u001b[1;33m\u001b[0m\u001b[0m\n\u001b[1;32m---> 36\u001b[1;33m         self.commands = { KEY_UP: up, KEY_DOWN: down, KEY_LEFT: left, KEY_RIGHT: right,\n\u001b[0m\u001b[0;32m     37\u001b[0m                         KEY_UP_ALT: up, KEY_DOWN_ALT: down, KEY_LEFT_ALT:left, KEY_RIGHT_ALT:right }\n\u001b[0;32m     38\u001b[0m         \u001b[0mself\u001b[0m\u001b[1;33m.\u001b[0m\u001b[0mgrid_cells\u001b[0m \u001b[1;33m=\u001b[0m \u001b[1;33m[\u001b[0m\u001b[1;33m]\u001b[0m\u001b[1;33m\u001b[0m\u001b[0m\n",
      "\u001b[1;31mNameError\u001b[0m: name 'up' is not defined"
     ]
    }
   ],
   "source": [
    "from tkinter import *\n",
    "from random import *\n",
    "\n",
    "\n",
    "\n",
    "SIZE = 500\n",
    "GRID_LEN = 4\n",
    "GRID_PADDING = 10\n",
    "\n",
    "BACKGROUND_COLOR_GAME = \"#92877d\"\n",
    "BACKGROUND_COLOR_CELL_EMPTY = \"#9e948a\"\n",
    "BACKGROUND_COLOR_DICT = {   2:\"#eee4da\", 4:\"#ede0c8\", 8:\"#f2b179\", 16:\"#f59563\", \\\n",
    "                            32:\"#f67c5f\", 64:\"#f65e3b\", 128:\"#edcf72\", 256:\"#edcc61\", \\\n",
    "                            512:\"#edc850\", 1024:\"#edc53f\", 2048:\"#edc22e\" }\n",
    "CELL_COLOR_DICT = { 2:\"#776e65\", 4:\"#776e65\", 8:\"#f9f6f2\", 16:\"#f9f6f2\", \\\n",
    "                    32:\"#f9f6f2\", 64:\"#f9f6f2\", 128:\"#f9f6f2\", 256:\"#f9f6f2\", \\\n",
    "                    512:\"#f9f6f2\", 1024:\"#f9f6f2\", 2048:\"#f9f6f2\" }\n",
    "FONT = (\"Verdana\", 40, \"bold\")\n",
    "\n",
    "KEY_UP_ALT = \"\\'\\\\uf700\\'\"\n",
    "KEY_DOWN_ALT = \"\\'\\\\uf701\\'\"\n",
    "KEY_LEFT_ALT = \"\\'\\\\uf702\\'\"\n",
    "KEY_RIGHT_ALT = \"\\'\\\\uf703\\'\"\n",
    "\n",
    "KEY_UP = \"'w'\"\n",
    "KEY_DOWN = \"'s'\"\n",
    "KEY_LEFT = \"'a'\"\n",
    "KEY_RIGHT = \"'d'\"\n",
    "\n",
    "\n",
    "class GameGrid(Frame):\n",
    "    def __init__(self):\n",
    "        Frame.__init__(self)\n",
    "        \n",
    "        self.grid()\n",
    "        self.master.title(\"2048\")\n",
    "        self.master.bind(\"<Key>\", self.key_down)\n",
    "        \n",
    "        # self.gamelogic =gamelogic\n",
    "        self.commands = { KEY_UP: up, KEY_DOWN: down, KEY_LEFT: left, KEY_RIGHT: right,\n",
    "                        KEY_UP_ALT: up, KEY_DOWN_ALT: down, KEY_LEFT_ALT:left, KEY_RIGHT_ALT:right }\n",
    "        self.grid_cells = []\n",
    "        self.init_grid()\n",
    "        self.init_matrix()\n",
    "        self.update_grid_cells()\n",
    "        \n",
    "        self.mainloop()\n",
    "     \n",
    "        \n",
    "    def init_grid(self):\n",
    "            backgroud = Frame(self,bg = BACKGROUND_COLOR_GAME, width = SIZE, height = SIZE)\n",
    "            backgroud.grid()\n",
    "            for i in range(GRID_LEN):\n",
    "                grid_row = []\n",
    "                for j in range(GRID_LEN):\n",
    "                    cell = Frame(backgroud, bg = BACKGROUND_COLOR_CELL_EMPTY, width = SIZE/GRID_LEN,\n",
    "                                height = SIZE/GRID_LEN)\n",
    "                    cell.grid(row= i, column = j, padx = GRID_PADDING, pady = GRID_PADDING)\n",
    "                    # font = Font(size = FONT_ZISE, family = FONT_FAMILY, weight = FONT_WIGHT)\n",
    "                    t = Label(master = cell, text = \"\", bg = BACKGROUND_COLOR_CELL_EMPTY, justify = CENTER,\n",
    "                             font = FONT, width = 4, height = 2)\n",
    "                    t.grid()\n",
    "                    grid_row.append(t)\n",
    "                self.grid_cells.append(grid_row)\n",
    "        \n",
    "    def gen(self):\n",
    "            return randint(0,GRID_LEN - 1)\n",
    "        \n",
    "    def init_matrix(self):\n",
    "            self.matrix = new_game(4)\n",
    "            self.matrix = add_two(self.matrix)\n",
    "            self.matrix = add_two(self.matrix)\n",
    "            \n",
    "    def update_grid_cells(self):\n",
    "            for i in  range(GRID_LEN):\n",
    "                for j in range(GRID_LEN):\n",
    "                    new_number = self.matrix[i][j]\n",
    "                    if new_number == 0:\n",
    "                        self.grid_cells[i][j].configure(text = \"\", bg = BACKGROUND_COLOR_CELL_EMPTY)\n",
    "                    else:\n",
    "                        self.grid_cells[i][j].configure(text = str(new_number), bg = BACKGROUND_COLOR_DICT[new_number],\n",
    "                                                       fg = CELL_COLOR_DICT[new_number])\n",
    "            self.update_idletasks()\n",
    "            \n",
    "            \n",
    "    def key_down(self, event):\n",
    "            key = repr(event.char)\n",
    "            if key in self.commands:\n",
    "                self.matrix, done = self.commands[repr(event.char)](self.matrix)\n",
    "                if done:\n",
    "                    self.matrix = add_two(self.matrix)\n",
    "                    self.update_grid_cells()\n",
    "                    done = False\n",
    "                    if game_status(self.matrix) == \"win\":\n",
    "                        self.grid_cells[1][1].configure(text = \"You\", bg = BACKGROUND_COLOR_CELL_EMPTY)\n",
    "                        self.grid_cells[1][2].configure(text = \"Win!\",bg = BACKGROUND_COLOR_CELL_EMPTY)\n",
    "                    \n",
    "                    if game_status(self.matrix) == \"lose\":\n",
    "                        self.grid_cells[1][1].configure(text = \"You\", bg = BACKGROUND_COLOR_CELL_EMPTY)\n",
    "                        self.grid_cells[1][2].configure(text = \"Lose!\",bg = BACKGROUND_COLOR_CELL_EMPTY)\n",
    "                    self.master.title(\"Your Score:\" + str(np.sum(self.matrix)))\n",
    "                        \n",
    "    def generate_next(self):\n",
    "            index = (self.gen(), self.gen())\n",
    "            while self.matrix[index[0]][index[1]] != 0 :\n",
    "                index = (self.gen(), self.gen())\n",
    "            self.matrix[index[0]][index[1]] = 2\n",
    "            \n",
    "            \n",
    "gamegrid = GameGrid()\n",
    "    \n",
    "        "
   ]
  },
  {
   "cell_type": "code",
   "execution_count": null,
   "metadata": {
    "collapsed": true
   },
   "outputs": [],
   "source": []
  }
 ],
 "metadata": {
  "kernelspec": {
   "display_name": "Python 3",
   "language": "python",
   "name": "python3"
  }
 },
 "nbformat": 4,
 "nbformat_minor": 2
}
