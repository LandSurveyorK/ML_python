{
 "cells": [
  {
   "cell_type": "code",
   "execution_count": 5,
   "metadata": {},
   "outputs": [
    {
     "name": "stdout",
     "output_type": "stream",
     "text": [
      "Wrote sierpinski6.bmp\n"
     ]
    }
   ],
   "source": [
    "# Sierpinski carpet generator, in Python using Numpy and Pillow.\n",
    "# Written by Nathan Reed, June 2014.\n",
    "# This code is released into the public domain.\n",
    "\n",
    "import numpy as np\n",
    "from PIL import Image\n",
    "\n",
    "numLevels = 6\n",
    "imageSize = 3**numLevels\n",
    "\n",
    "# Create the image and fill it with white\n",
    "img = np.empty([imageSize, imageSize, 3], dtype=np.uint8)\n",
    "img.fill(255)\n",
    "color = np.array([66, 0, 130], dtype=np.uint8)\n",
    "\n",
    "for level in range(0, numLevels + 1):\n",
    "    stepSize = 3**(numLevels - level)\n",
    "    for x in range(0, 3**level):\n",
    "        if x % 3 == 1:\n",
    "            for y in range(0, 3**level):\n",
    "                if y % 3 == 1:\n",
    "                    img[y*stepSize:(y+1)*stepSize, x*stepSize:(x+1)*stepSize] = color\n",
    "\n",
    "# Send to PIL and save\n",
    "outputFilename = \"sierpinski%d.bmp\" % level\n",
    "Image.fromarray(img).save(outputFilename)\n",
    "\n",
    "print('Wrote %s' % outputFilename)"
   ]
  },
  {
   "cell_type": "code",
   "execution_count": 6,
   "metadata": {},
   "outputs": [
    {
     "name": "stdout",
     "output_type": "stream",
     "text": [
      "729\n"
     ]
    }
   ],
   "source": [
    "print(3**6)"
   ]
  }
 ],
 "metadata": {
  "kernelspec": {
   "display_name": "Python 3",
   "language": "python",
   "name": "python3"
  },
  "language_info": {
   "codemirror_mode": {
    "name": "ipython",
    "version": 3
   },
   "file_extension": ".py",
   "mimetype": "text/x-python",
   "name": "python",
   "nbconvert_exporter": "python",
   "pygments_lexer": "ipython3",
   "version": "3.6.1"
  }
 },
 "nbformat": 4,
 "nbformat_minor": 2
}
