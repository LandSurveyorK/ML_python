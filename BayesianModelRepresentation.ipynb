{
 "cells": [
  {
   "cell_type": "code",
   "execution_count": 8,
   "metadata": {},
   "outputs": [
    {
     "data": {
      "text/plain": [
       "[('rain', 'traffic_jam'), ('accident', 'traffic_jam')]"
      ]
     },
     "execution_count": 8,
     "metadata": {},
     "output_type": "execute_result"
    }
   ],
   "source": [
    "import pgmpy\n",
    "from pgmpy.models import BayesianModel\n",
    "\n",
    "model = BayesianModel()\n",
    "model.add_nodes_from(['rain','traffic_jam'])\n",
    "model.add_edge('rain','traffic_jam')\n",
    "model.add_edge('accident','traffic_jam')\n",
    "model.nodes()\n",
    "model.edges()\n",
    "\n"
   ]
  }
 ],
 "metadata": {
  "kernelspec": {
   "display_name": "Python 3",
   "language": "python",
   "name": "python3"
  },
  "language_info": {
   "codemirror_mode": {
    "name": "ipython",
    "version": 3
   },
   "file_extension": ".py",
   "mimetype": "text/x-python",
   "name": "python",
   "nbconvert_exporter": "python",
   "pygments_lexer": "ipython3",
   "version": "3.6.1"
  }
 },
 "nbformat": 4,
 "nbformat_minor": 2
}
